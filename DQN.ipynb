{
  "nbformat": 4,
  "nbformat_minor": 0,
  "metadata": {
    "colab": {
      "provenance": [],
      "authorship_tag": "ABX9TyPwWyXEmVFyxTF/Ubagattw",
      "include_colab_link": true
    },
    "kernelspec": {
      "name": "python3",
      "display_name": "Python 3"
    },
    "language_info": {
      "name": "python"
    }
  },
  "cells": [
    {
      "cell_type": "markdown",
      "metadata": {
        "id": "view-in-github",
        "colab_type": "text"
      },
      "source": [
        "<a href=\"https://colab.research.google.com/github/LuxVortex88/luxnav-spacegrid/blob/main/DQN.ipynb\" target=\"_parent\"><img src=\"https://colab.research.google.com/assets/colab-badge.svg\" alt=\"Open In Colab\"/></a>"
      ]
    },
    {
      "cell_type": "code",
      "source": [
        "import random\n",
        "import gym\n",
        "import numpy as np\n",
        "import tensorflow as tf\n",
        "from tensorflow import keras\n",
        "from collections import deque\n",
        "\n",
        "# Deep Q-Network (DQN) Agent\n",
        "\n",
        "class DQNAgent:\n",
        "  def __init__(self, state_size, action_size):\n",
        "    self.state_size = state_size # Corrected indentation\n",
        "    self.action_size = action_size # Corrected indentation\n",
        "    self. memory = deque(maxlen=2000) # Replay memory\n",
        "    self. gamma = 0.95 # Discount factor\n",
        "    self. epsilon = 1.0 # Exploration rate\n",
        "    self. epsilon_decay = 0.995 # Decay rate - Fixed attribute name\n",
        "    self. epsilon_min = 0.01 # Minimum epsilon - Added for decay logic\n",
        "    self. self.learning_rate = 0.001 # NN learning rate\n",
        "    self.model = self._build_model()\n",
        "\n",
        "    def _build_model(self):\n",
        "      model = keras.Sequential([\n",
        "          keras.layers.Dense(24, input_dim=self.state_size, activation=\"relu\"), # Corrected layer definition and activation\n",
        "          keras.layers.Dense(24, activation=\"relu\"), # Corrected layer\n",
        "          keras.layers.Dense(self.action_size, activation=\"linear\") # Output layer\n",
        "      ])\n",
        "      model.compile(loss=\"mse\", optimizer=keras.optimizers.Adam(learning_rate=self.Learning_rate))\n",
        "      print(\"Model compiled\") #Removed model.summary() as it needs to be called separately\n",
        "      #print (model.summary)) # You can call model.summary() outside the function if needed\n",
        "      return model\n",
        "\n",
        "    def choose_action(self, state):\n",
        "      if np.random.rand() <= self.epsilon:\n",
        "        action= random.randrange(self.action_size) # Explore\n",
        "      else:\n",
        "        state = np.reshape(state, [1, self.state_size])\n",
        "        act_values = self.model.predict(state, verbose=0)\n",
        "        action = np.argmax(act_values[0]) # Exploit\n",
        "        print(f\"choosing action: {action}\") # Corrected indentation\n",
        "        return action # Corrected indentation\n",
        "\n",
        "\n",
        "    def remember(self, state, action, reward, next_state, done):\n",
        "        self.memory.append((state, action, reward, next_state, done))\n",
        "        print(f\"Memory size: {len(self.memory)}\")\n",
        "\n",
        "    def train(self, batch_size=32):\n",
        "       if len(self.memory) < batch_size:\n",
        "        print(\"Not enough memory to train yet\")\n",
        "        return\n",
        "\n",
        "        minibatch = random.sample(self.memory, batch_size)\n",
        "        for state, action, reward, next_state, done in minibatch:\n",
        "            target = reward\n",
        "            if not done:\n",
        "              next_state = np.reshape(next_state, [1, self.state_size])\n",
        "              target += self.gamma * np.amax(self.model.predict(next_state, verbose=0)[0])\n",
        "\n",
        "       state = np.reshape(state, [1, self.state_size])\n",
        "       target_f = self.model.predict(state, verbose=0)\n",
        "\n",
        "\n",
        "       if self. epsilon > self.epsilon_min: # Added epsilon_min check\n",
        "           self.epsilon *= self.epsilon_decay\n",
        "\n"
      ],
      "metadata": {
        "id": "xOxUyDE23PUI"
      },
      "execution_count": null,
      "outputs": []
    }
  ]
}
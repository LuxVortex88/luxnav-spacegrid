{
  "nbformat": 4,
  "nbformat_minor": 0,
  "metadata": {
    "colab": {
      "provenance": [],
      "authorship_tag": "ABX9TyOWtbNEcQJNjODPUxG66wZt"
    },
    "kernelspec": {
      "name": "python3",
      "display_name": "Python 3"
    },
    "language_info": {
      "name": "python"
    }
  },
  "cells": [
    {
      "cell_type": "code",
      "source": [
        "import numpy as np\n",
        "\n",
        "class GalaxyDataFrame:\n",
        "    def __init__(self, max_size=1000):\n",
        "        self.max_size = max_size\n",
        "        self.current_size = 0\n",
        "\n",
        "        # Allocate arrays\n",
        "        self.ids = np.zeros(max_size, dtype=np.int32)\n",
        "        self.names = np.empty(max_size, dtype=object)\n",
        "        self.positions = np.zeros((max_size, 3), dtype=np.float32)  # x, y, z\n",
        "        self.velocities = np.zeros((max_size, 3), dtype=np.float32)  # vx, vy, vz\n",
        "        self.masses = np.zeros(max_size, dtype=np.float32)\n",
        "        self.types = np.empty(max_size, dtype=object)  # e.g., 'spiral', 'elliptical'\n",
        "\n",
        "    def add_galaxy(self, galaxy_id, name, position, velocity, mass, gtype):\n",
        "        if self.current_size >= self.max_size:\n",
        "            raise ValueError(\"GalaxyDataFrame is full!\")\n",
        "\n",
        "        idx = self.current_size\n",
        "        self.ids[idx] = galaxy_id\n",
        "        self.names[idx] = name\n",
        "        self.positions[idx] = position\n",
        "        self.velocities[idx] = velocity\n",
        "        self.masses[idx] = mass\n",
        "        self.types[idx] = gtype\n",
        "        self.current_size += 1\n",
        "\n",
        "    def get_galaxy_by_id(self, galaxy_id):\n",
        "        idx = np.where(self.ids[:self.current_size] == galaxy_id)[0]\n",
        "        if len(idx) == 0:\n",
        "            return None\n",
        "        idx = idx[0]\n",
        "        return {\n",
        "            'id': self.ids[idx],\n",
        "            'name': self.names[idx],\n",
        "            'position': self.positions[idx],\n",
        "            'velocity': self.velocities[idx],\n",
        "            'mass': self.masses[idx],\n",
        "            'type': self.types[idx],\n",
        "        }\n",
        "\n",
        "    def filter_by_type(self, gtype):\n",
        "        idxs = np.where(self.types[:self.current_size] == gtype)[0]\n",
        "        return [self.get_galaxy_by_id(self.ids[i]) for i in idxs]\n",
        "\n",
        "    def compute_total_mass(self):\n",
        "        return np.sum(self.masses[:self.current_size])\n",
        "\n"
      ],
      "metadata": {
        "id": "qLoQ7gWFYbBy"
      },
      "execution_count": 1,
      "outputs": []
    }
  ]
}